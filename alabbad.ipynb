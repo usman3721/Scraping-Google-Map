{
 "cells": [
  {
   "cell_type": "code",
   "execution_count": 1,
   "metadata": {},
   "outputs": [],
   "source": [
    "from serpapi import GoogleSearch\n",
    "import pandas as pd\n",
    "location=input(\"Please enter your search\")\n",
    "# TO GET YOUR API KEY AND L1 KINDLY VISIT https://serpapi.com/ CREATE AN ACCOUNT AND IT WILL BE GENERATED"
   ]
  },
  {
   "cell_type": "code",
   "execution_count": 2,
   "metadata": {},
   "outputs": [],
   "source": [
    "\n",
    "params = {\n",
    "  \"engine\": \"google_maps\",\n",
    "  \"q\": f\"{location}\",\n",
    "  \"ll\": \"ENTER GPS COORDINATE OF LOCATION\",\n",
    "  \"type\": \"search\",\n",
    "  \"api_key\": \"ENTER YOUR API KEY\"\n",
    "}\n",
    "\n",
    "search = GoogleSearch(params)\n",
    "results = search.get_dict()\n",
    "local_results = results[\"local_results\"]\n"
   ]
  },
  {
   "cell_type": "code",
   "execution_count": 3,
   "metadata": {},
   "outputs": [],
   "source": [
    "title=[local_results[n].get('title') for n in range(len(local_results))]\n",
    "address=[local_results[n].get('address') for n in range(len(local_results))]\n",
    "website=[local_results[n].get('website') for n in range(len(local_results))]\n",
    "phone_number=[local_results[n].get('phone') for n in range(len(local_results))]\n",
    "time=[local_results[n].get('time') for n in range(len(local_results))]\n",
    "description=[local_results[n].get('description') for n in range(len(local_results))]\n",
    "rating=[local_results[n].get('rating') for n in range(len(local_results))]\n",
    "hours=[local_results[n].get('hours') for n in range(len(local_results))]\n",
    "type=[local_results[n].get('type') for n in range(len(local_results))]\n",
    "reviews_link=[local_results[n].get('reviews_link') for n in range(len(local_results))]\n",
    "\n"
   ]
  },
  {
   "cell_type": "code",
   "execution_count": 4,
   "metadata": {},
   "outputs": [],
   "source": [
    "data={\n",
    "    \"Title\":title,\n",
    "    \"Address\":address,\n",
    "    \"Phonw Number\":phone_number,\n",
    "    \"Description\":description,\n",
    "    \"Type\":type,\n",
    "    \"Time\":time,\n",
    "    \"Rating\":rating,\n",
    "    \"Hours\":hours,\n",
    "    \"Website\":website,\n",
    "    \"Review Link\":reviews_link\n",
    "}"
   ]
  },
  {
   "cell_type": "code",
   "execution_count": 5,
   "metadata": {},
   "outputs": [],
   "source": [
    "df=pd.DataFrame(data)\n",
    "df.to_excel(f\"{location}.xlsx\",sheet_name=\"Done\")"
   ]
  }
 ],
 "metadata": {
  "kernelspec": {
   "display_name": "Python 3",
   "language": "python",
   "name": "python3"
  },
  "language_info": {
   "codemirror_mode": {
    "name": "ipython",
    "version": 3
   },
   "file_extension": ".py",
   "mimetype": "text/x-python",
   "name": "python",
   "nbconvert_exporter": "python",
   "pygments_lexer": "ipython3",
   "version": "3.10.6"
  },
  "orig_nbformat": 4
 },
 "nbformat": 4,
 "nbformat_minor": 2
}
